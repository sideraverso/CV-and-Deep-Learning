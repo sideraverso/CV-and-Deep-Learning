{
 "cells": [
  {
   "cell_type": "markdown",
   "source": [
    "# Image Classification With A Deep Neural Network\n",
    "This notebook details the steps taken to implement and train a Deep Neural Network(DNN) on the [FashionMNIST](https://github.com/zalandoresearch/fashion-mnist) dataset in order to perform the computer vision task of image classification on the FashionMNIST test dataset partition. \n",
    "\n",
    "To build, train and test a neural network, the libraries TensorFlow and Keras are leveraged to provide the features and methods required to build the components of a neural network. Supporting libraries such as Pandas, Matplotlib and Numpy are utlised for visualisation and data processing\n",
    "\n",
    "**[TensorFlow](https://www.tensorflow.org/)**: An open-source platform for implementing, training, and deploying machine learning models.\n",
    "\n",
    "**[Keras](https://keras.io/)**: An open-source library used to implement neural network architectures that run on both CPUs and GPUs.\n",
    "\n",
    "**[Matplotlib](https://matplotlib.org/)**: Tool utilized to create visualization plots in Python such as charts, graphs and more\n",
    "\n",
    "**[Numpy](https://numpy.org/)**: Enables several mathematical computations and operations of array data structures."
   ],
   "metadata": {}
  },
  {
   "cell_type": "code",
   "execution_count": 16,
   "source": [
    "import tensorflow as tf\n",
    "from tensorflow import keras\n",
    "# from tensorflow.keras.layers.experimental import preprocessing\n",
    "import matplotlib.pyplot as plt\n",
    "import numpy as np\n",
    "import os\n",
    "import time"
   ],
   "outputs": [],
   "metadata": {}
  },
  {
   "cell_type": "markdown",
   "source": [
    "## FashionMNIST\n",
    "\n",
    "The [Fashion-MNIST](https://github.com/zalandoresearch/fashion-mnist) dataset consists of images of clothing (T-shirts, Trousers, Dresses and more) that originate from Zalando’s image directory. Zalando is a European e-commerce company founded in 2008.\n",
    "\n",
    "The researchers in Zalando have created the Fashion-MNIST dataset that contains 70,000 images of clothing. More specifically, it contains 60,000 training examples and 10,000 testing examples, that are all grayscale images with the dimension 28 x 28 categorized into 10 classes.\n",
    "\n",
    "[**Keras Dataset**](https://keras.io/api/datasets/) (keras.datasets)\n",
    "\n",
    "In the practical world of machine learning, obtaining dataset is costly in terms of time, money and effort.\n",
    "But a few introductory datasets have been collated together to help students and researchers build and analyse the performance of models on specifics datasets.\n",
    "Some of these dataset reside within the Keras API and are easily accessible through the [load_data()](https://keras.io/api/datasets/fashion_mnist/#load_data-function) method of each respective dataset.\n",
    "\n",
    "To load the FashionMNIST: `keras.datasets.fashion_mnist.load_data()`\n",
    "\n",
    "**Classes**\n",
    "| Label | Description |\n",
    "|-------|-------------|\n",
    "| 0     | T-shirt/top |\n",
    "| 1     | Trouser     |\n",
    "| 2     | Pullover    |\n",
    "| 3     | Dress       |\n",
    "| 4     | Coat        |\n",
    "| 5     | Sandal      |\n",
    "| 6     | Shirt       |\n",
    "| 7     | Sneaker     |\n",
    "| 8     | Bag         |\n",
    "| 9     | Ankle boot  |\n",
    "\n",
    "**Dataset Partitions**\n",
    "\n",
    "For this particular classification task, 55,000 training images, 10,000 test images, and 5,000 validation images are utilized.\n",
    "- Training Data: This is the group of our dataset used to train the neural network directly. Training data refers to the dataset partition exposed to the neural network during training.\n",
    "- Validation Data: This group of the dataset is utilized during training to assess the performance of the network at various iterations.\n",
    "- Test Data: This partition of the dataset evaluates the performance of our network after the completion of the training phase.\n",
    "\n",
    "The validation partition of the dataset is obtained from taking a slice of the training data. More specifically, the first 5000 training images and labels are assigned to the validation data.\n",
    "The new training data is reassigned to every training data element but the first 5000 images in the original training data."
   ],
   "metadata": {}
  },
  {
   "cell_type": "code",
   "execution_count": 17,
   "source": [
    "# Load Dataset and split into partitions\n",
    "fashion_mnist = keras.datasets.fashion_mnist\n",
    "(train_images, train_labels), (test_images, test_labels) = fashion_mnist.load_data()\n",
    "\n",
    "# Create a validation set from training images\n",
    "validation_images = train_images[:5000]\n",
    "validation_labels = train_labels[:5000]\n",
    "\n",
    "# Re-assign the training images and labels\n",
    "train_images, train_labels = train_images[5000:], train_labels[5000:]"
   ],
   "outputs": [],
   "metadata": {}
  },
  {
   "cell_type": "markdown",
   "source": [
    "## Analysing the dataset\n",
    "\n",
    "As mentioned earlier the FashionMNIST dataset contains 70,000 grayscale images with the dimensions 28 x 28.\n",
    "Below are the several methods to leverage in order to confirm the nunbers of elements within the dataset partitions.\n",
    "\n",
    "* Using Numpy's array [shape attribute](https://numpy.org/doc/stable/reference/generated/numpy.ndarray.shape.html#numpy.ndarray.shape). This is possbile as the `train_images`, `train_labels`, `test_images` etc, are all numpy arrays\n",
    "    \n",
    "* Using Python's [length method](https://www.w3schools.com/python/ref_func_len.asp) "
   ],
   "metadata": {}
  },
  {
   "cell_type": "code",
   "execution_count": 18,
   "source": [
    "# Analyze the stuctural properties of the training dataset\n",
    "print(\"Shape of training images\", train_images.shape)\n",
    "print(\"Shape of training labels\", train_labels.shape)\n",
    "print(\"\\n\")\n",
    "\n",
    "# Alternatively you can use the Python len() method\n",
    "print(\"Number of training images\", len(train_images))\n",
    "print(\"Number of training labels\", len(train_labels))\n",
    "print(\"\\n\")\n",
    "\n",
    "# Analyze the stuctural properties of the test dataset\n",
    "print(\"Shape of test images\", test_images.shape)\n",
    "print(\"Shape of test labels\", test_labels.shape)\n",
    "print(\"\\n\")\n",
    "\n",
    "# Alternatively you can use the Python len() method\n",
    "print(\"Number of test images\", len(test_images))\n",
    "print(\"Number of test labels\", len(test_labels))"
   ],
   "outputs": [
    {
     "output_type": "stream",
     "name": "stdout",
     "text": [
      "Shape of training images (55000, 28, 28)\n",
      "Shape of training labels (55000,)\n",
      "\n",
      "\n",
      "Number of training images 55000\n",
      "Number of training labels 55000\n",
      "\n",
      "\n",
      "Shape of test images (10000, 28, 28)\n",
      "Shape of test labels (10000,)\n",
      "\n",
      "\n",
      "Number of test images 10000\n",
      "Number of test labels 10000\n"
     ]
    }
   ],
   "metadata": {}
  },
  {
   "cell_type": "markdown",
   "source": [
    "The FashionMNIST dataset labels range from the numbers 0-9. The cell below shows the values of three randomly chosen labels from training dataset.\n",
    "\n",
    "And by the built in Numpy array methods `max()` and min `min()` it is possible to confirm the maximum and minimum label expected from the training dataset."
   ],
   "metadata": {}
  },
  {
   "cell_type": "code",
   "execution_count": 19,
   "source": [
    "# Example of training label content\n",
    "print(train_labels[0], train_labels[43], train_labels[1923])\n",
    "print(\"Minimum value of training labels\", train_labels.min())\n",
    "print(\"Maximum value of training labels\", train_labels.max())"
   ],
   "outputs": [
    {
     "output_type": "stream",
     "name": "stdout",
     "text": [
      "4 2 1\n",
      "Minimum value of training labels 0\n",
      "Maximum value of training labels 9\n"
     ]
    }
   ],
   "metadata": {}
  },
  {
   "cell_type": "markdown",
   "source": [
    "It is also possible to observe the content of an element of the training dataset, or any other elements of the dataset by using the Python's list subscript.\n",
    "\n",
    "`print(train_images[0])` prints to the console a numpy multidimensional array containing values between the numbers 0-255."
   ],
   "metadata": {}
  },
  {
   "cell_type": "code",
   "execution_count": 20,
   "source": [
    "# Content of training images before normalisation\n",
    "print(train_images[0])\n",
    "print(\"Minimum value of pixel training images\", train_images.min())\n",
    "print(\"Maximum value of pixel training images\", train_images.max())"
   ],
   "outputs": [
    {
     "output_type": "stream",
     "name": "stdout",
     "text": [
      "[[  0   0   0   0   0   0   0   0   0   0   0   0   0   0   0   0   0   0\n",
      "    0   1   0   0   0   0   0   0   0   0]\n",
      " [  0   0   0   0   0   0   0   0   0   0   0  44 127 182 185 161 120  55\n",
      "    0   0   0   0   0   0   0   0   0   0]\n",
      " [  0   0   0   0   0   0   0   0   0  42 198 251 255 251 249 247 255 252\n",
      "  214 100   0   0   0   0   0   0   0   0]\n",
      " [  0   0   0   0   0   0   2   0   0 233 252 237 239 234 237 235 237 237\n",
      "  254 227   0   0   0   0   1   0   0   0]\n",
      " [  0   0   0   0   0   2   0   0  16 210 225 215 175 217 216 193 196 226\n",
      "  221 209  50   0   0   2   0   0   0   0]\n",
      " [  0   0   0   0   2   0   0 199 229 232 230 245 204 219 253 245 207 194\n",
      "  223 231 236 235   0   0   3   0   0   0]\n",
      " [  0   0   0   0   1   0 137 235 204 209 201 209 234 190 234 218 215 238\n",
      "  239 204 189 224 154   0   0   0   0   0]\n",
      " [  0   0   0   0   0   0 194 201 200 209 202 193 205 194 183 218 231 197\n",
      "  172 181 193 205 199   0   0   0   0   0]\n",
      " [  0   0   0   0   0   3 212 203 188 189 196 198 198 201 196 217 179 167\n",
      "  183 217 197 202 219  30   0   0   0   0]\n",
      " [  0   0   0   0   0  34 225 200 194 190 188 192 196 192 170 202 190 201\n",
      "  195 200 201 209 227  50   0   0   0   0]\n",
      " [  0   0   0   0   0  68 225 210 211 198 192 196 204 196 181 212 197 195\n",
      "  192 206 220 210 229  93   0   0   0   0]\n",
      " [  0   0   0   0   0 111 223 227 253 209 196 204 211 206 183 216 206 210\n",
      "  203 215 244 224 227 150   0   0   0   0]\n",
      " [  0   0   0   0   0 139 225 224 255 202 206 212 209 211 190 213 202 207\n",
      "  206 222 255 230 220 190   0   0   0   0]\n",
      " [  0   0   0   0   0 180 226 224 255 199 204 207 214 214 190 216 206 203\n",
      "  205 219 243 224 214 234   0   0   0   0]\n",
      " [  0   0   0   0   0 225 223 228 254 209 206 208 213 210 191 215 207 204\n",
      "  208 211 249 226 214 255  38   0   0   0]\n",
      " [  0   0   0   0   0 250 232 240 239 211 203 209 205 211 197 215 208 208\n",
      "  214 213 239 231 219 255  81   0   0   0]\n",
      " [  0   0   0   0   0 248 236 247 240 203 200 208 206 214 193 213 212 208\n",
      "  212 211 243 242 225 254  66   0   0   0]\n",
      " [  0   0   0   0   0 247 230 252 226 199 211 202 211 213 182 213 212 206\n",
      "  202 219 207 247 222 237 104   0   0   0]\n",
      " [  0   0   0   0  10 244 219 250 205 199 209 202 209 211 189 214 206 210\n",
      "  200 212 154 240 208 219 140   0   0   0]\n",
      " [  0   0   0   0  21 255 222 238 184 210 192 206 209 210 189 213 211 209\n",
      "  192 228 155 226 238 241 166   0   0   0]\n",
      " [  0   0   0   0  37 245 226 241 150 197 189 204 209 210 183 213 213 201\n",
      "  184 215 146 216 236 225 154   0   0   0]\n",
      " [  0   0   0   0  58 239 227 255 158 193 195 204 209 213 180 207 217 199\n",
      "  194 211 158 219 236 216 151   0   0   0]\n",
      " [  0   0   0   0  68 233 226 243 139 200 193 205 210 208 180 205 212 203\n",
      "  196 216 157 179 255 216 155   0   0   0]\n",
      " [  0   0   0   0  81 225 224 211 138 219 185 201 213 207 197 226 212 200\n",
      "  190 215 183  90 255 211 147   0   0   0]\n",
      " [  0   0   0   0  91 210 230 158 114 205 187 208 209 206 193 210 211 204\n",
      "  195 204 181  23 255 213 158   0   0   0]\n",
      " [  0   0   0   0  87 205 232 109 164 255 214 224 222 210 197 214 225 222\n",
      "  211 220 217   0 234 216 169   0   0   0]\n",
      " [  0   0   0   0  92 213 232 146   5 134 151 162 170 183 182 164 166 178\n",
      "  162 156  98   0 240 225 210   0   0   0]\n",
      " [  0   0   0   0  43 164 206 141   0   0   0   0   0   0   0   0   0   0\n",
      "    0   0   0   0 127 125  76   0   0   0]]\n",
      "Minimum value of pixel training images 0\n",
      "Maximum value of pixel training images 255\n"
     ]
    }
   ],
   "metadata": {}
  },
  {
   "cell_type": "markdown",
   "source": [
    "## Normalisation\n",
    "\n",
    "Before we proceed, we have to normalize the training image pixel values to values within the range 0 and 1. This is done by dividing each pixel value within the train and test images by 255 as this is the largest pixel value within the images (go back to previous cell for verfification).\n",
    "\n",
    "Normalising the pixel values to numbers between 0 and 1 is not compulsury, but is a step advised to be taken when working with image dataset as large pixel values tend to prolong the training time, or time it takes for the network to converge. \n",
    "\n",
    "This is due to the fact that weights within the neural network take on really small values and conducting matrix multiplcation between the small values of the weights and large values of normal pixels will result in larger outputs, which increases the time taken for the network to train or converge.\n",
    "\n",
    "Refer to [01_implementing_DNN](https://resources.oreilly.com/binderhub/practical-introduction-to-the-world-of-computer-vision-and-deep-learning/blob/master/notebooks/01_implementing_DNN.ipynb) notebook for example on viewing neural network weigths.\n"
   ],
   "metadata": {}
  },
  {
   "cell_type": "code",
   "execution_count": 21,
   "source": [
    "# Normalise training, test and validation images\n",
    "train_images = train_images / 255.0\n",
    "test_images = test_images / 255.0\n",
    "validation_images = validation_images / 255.0"
   ],
   "outputs": [],
   "metadata": {}
  },
  {
   "cell_type": "markdown",
   "source": [
    "Observing the contents of an element of the training data will display pixels values ranging from 0 to 1, the cell below demonstrates this."
   ],
   "metadata": {}
  },
  {
   "cell_type": "code",
   "execution_count": 23,
   "source": [
    "# Content of training images after normalisation\n",
    "print(train_images[0])\n",
    "print(\"Minimum value of training images\", train_images.min())\n",
    "print(\"Maximum value of training images\", train_images.max())"
   ],
   "outputs": [
    {
     "output_type": "stream",
     "name": "stdout",
     "text": [
      "[[0.         0.         0.         0.         0.         0.\n",
      "  0.         0.         0.         0.         0.         0.\n",
      "  0.         0.         0.         0.         0.         0.\n",
      "  0.         0.00392157 0.         0.         0.         0.\n",
      "  0.         0.         0.         0.        ]\n",
      " [0.         0.         0.         0.         0.         0.\n",
      "  0.         0.         0.         0.         0.         0.17254902\n",
      "  0.49803922 0.71372549 0.7254902  0.63137255 0.47058824 0.21568627\n",
      "  0.         0.         0.         0.         0.         0.\n",
      "  0.         0.         0.         0.        ]\n",
      " [0.         0.         0.         0.         0.         0.\n",
      "  0.         0.         0.         0.16470588 0.77647059 0.98431373\n",
      "  1.         0.98431373 0.97647059 0.96862745 1.         0.98823529\n",
      "  0.83921569 0.39215686 0.         0.         0.         0.\n",
      "  0.         0.         0.         0.        ]\n",
      " [0.         0.         0.         0.         0.         0.\n",
      "  0.00784314 0.         0.         0.91372549 0.98823529 0.92941176\n",
      "  0.9372549  0.91764706 0.92941176 0.92156863 0.92941176 0.92941176\n",
      "  0.99607843 0.89019608 0.         0.         0.         0.\n",
      "  0.00392157 0.         0.         0.        ]\n",
      " [0.         0.         0.         0.         0.         0.00784314\n",
      "  0.         0.         0.0627451  0.82352941 0.88235294 0.84313725\n",
      "  0.68627451 0.85098039 0.84705882 0.75686275 0.76862745 0.88627451\n",
      "  0.86666667 0.81960784 0.19607843 0.         0.         0.00784314\n",
      "  0.         0.         0.         0.        ]\n",
      " [0.         0.         0.         0.         0.00784314 0.\n",
      "  0.         0.78039216 0.89803922 0.90980392 0.90196078 0.96078431\n",
      "  0.8        0.85882353 0.99215686 0.96078431 0.81176471 0.76078431\n",
      "  0.8745098  0.90588235 0.9254902  0.92156863 0.         0.\n",
      "  0.01176471 0.         0.         0.        ]\n",
      " [0.         0.         0.         0.         0.00392157 0.\n",
      "  0.5372549  0.92156863 0.8        0.81960784 0.78823529 0.81960784\n",
      "  0.91764706 0.74509804 0.91764706 0.85490196 0.84313725 0.93333333\n",
      "  0.9372549  0.8        0.74117647 0.87843137 0.60392157 0.\n",
      "  0.         0.         0.         0.        ]\n",
      " [0.         0.         0.         0.         0.         0.\n",
      "  0.76078431 0.78823529 0.78431373 0.81960784 0.79215686 0.75686275\n",
      "  0.80392157 0.76078431 0.71764706 0.85490196 0.90588235 0.77254902\n",
      "  0.6745098  0.70980392 0.75686275 0.80392157 0.78039216 0.\n",
      "  0.         0.         0.         0.        ]\n",
      " [0.         0.         0.         0.         0.         0.01176471\n",
      "  0.83137255 0.79607843 0.7372549  0.74117647 0.76862745 0.77647059\n",
      "  0.77647059 0.78823529 0.76862745 0.85098039 0.70196078 0.65490196\n",
      "  0.71764706 0.85098039 0.77254902 0.79215686 0.85882353 0.11764706\n",
      "  0.         0.         0.         0.        ]\n",
      " [0.         0.         0.         0.         0.         0.13333333\n",
      "  0.88235294 0.78431373 0.76078431 0.74509804 0.7372549  0.75294118\n",
      "  0.76862745 0.75294118 0.66666667 0.79215686 0.74509804 0.78823529\n",
      "  0.76470588 0.78431373 0.78823529 0.81960784 0.89019608 0.19607843\n",
      "  0.         0.         0.         0.        ]\n",
      " [0.         0.         0.         0.         0.         0.26666667\n",
      "  0.88235294 0.82352941 0.82745098 0.77647059 0.75294118 0.76862745\n",
      "  0.8        0.76862745 0.70980392 0.83137255 0.77254902 0.76470588\n",
      "  0.75294118 0.80784314 0.8627451  0.82352941 0.89803922 0.36470588\n",
      "  0.         0.         0.         0.        ]\n",
      " [0.         0.         0.         0.         0.         0.43529412\n",
      "  0.8745098  0.89019608 0.99215686 0.81960784 0.76862745 0.8\n",
      "  0.82745098 0.80784314 0.71764706 0.84705882 0.80784314 0.82352941\n",
      "  0.79607843 0.84313725 0.95686275 0.87843137 0.89019608 0.58823529\n",
      "  0.         0.         0.         0.        ]\n",
      " [0.         0.         0.         0.         0.         0.54509804\n",
      "  0.88235294 0.87843137 1.         0.79215686 0.80784314 0.83137255\n",
      "  0.81960784 0.82745098 0.74509804 0.83529412 0.79215686 0.81176471\n",
      "  0.80784314 0.87058824 1.         0.90196078 0.8627451  0.74509804\n",
      "  0.         0.         0.         0.        ]\n",
      " [0.         0.         0.         0.         0.         0.70588235\n",
      "  0.88627451 0.87843137 1.         0.78039216 0.8        0.81176471\n",
      "  0.83921569 0.83921569 0.74509804 0.84705882 0.80784314 0.79607843\n",
      "  0.80392157 0.85882353 0.95294118 0.87843137 0.83921569 0.91764706\n",
      "  0.         0.         0.         0.        ]\n",
      " [0.         0.         0.         0.         0.         0.88235294\n",
      "  0.8745098  0.89411765 0.99607843 0.81960784 0.80784314 0.81568627\n",
      "  0.83529412 0.82352941 0.74901961 0.84313725 0.81176471 0.8\n",
      "  0.81568627 0.82745098 0.97647059 0.88627451 0.83921569 1.\n",
      "  0.14901961 0.         0.         0.        ]\n",
      " [0.         0.         0.         0.         0.         0.98039216\n",
      "  0.90980392 0.94117647 0.9372549  0.82745098 0.79607843 0.81960784\n",
      "  0.80392157 0.82745098 0.77254902 0.84313725 0.81568627 0.81568627\n",
      "  0.83921569 0.83529412 0.9372549  0.90588235 0.85882353 1.\n",
      "  0.31764706 0.         0.         0.        ]\n",
      " [0.         0.         0.         0.         0.         0.97254902\n",
      "  0.9254902  0.96862745 0.94117647 0.79607843 0.78431373 0.81568627\n",
      "  0.80784314 0.83921569 0.75686275 0.83529412 0.83137255 0.81568627\n",
      "  0.83137255 0.82745098 0.95294118 0.94901961 0.88235294 0.99607843\n",
      "  0.25882353 0.         0.         0.        ]\n",
      " [0.         0.         0.         0.         0.         0.96862745\n",
      "  0.90196078 0.98823529 0.88627451 0.78039216 0.82745098 0.79215686\n",
      "  0.82745098 0.83529412 0.71372549 0.83529412 0.83137255 0.80784314\n",
      "  0.79215686 0.85882353 0.81176471 0.96862745 0.87058824 0.92941176\n",
      "  0.40784314 0.         0.         0.        ]\n",
      " [0.         0.         0.         0.         0.03921569 0.95686275\n",
      "  0.85882353 0.98039216 0.80392157 0.78039216 0.81960784 0.79215686\n",
      "  0.81960784 0.82745098 0.74117647 0.83921569 0.80784314 0.82352941\n",
      "  0.78431373 0.83137255 0.60392157 0.94117647 0.81568627 0.85882353\n",
      "  0.54901961 0.         0.         0.        ]\n",
      " [0.         0.         0.         0.         0.08235294 1.\n",
      "  0.87058824 0.93333333 0.72156863 0.82352941 0.75294118 0.80784314\n",
      "  0.81960784 0.82352941 0.74117647 0.83529412 0.82745098 0.81960784\n",
      "  0.75294118 0.89411765 0.60784314 0.88627451 0.93333333 0.94509804\n",
      "  0.65098039 0.         0.         0.        ]\n",
      " [0.         0.         0.         0.         0.14509804 0.96078431\n",
      "  0.88627451 0.94509804 0.58823529 0.77254902 0.74117647 0.8\n",
      "  0.81960784 0.82352941 0.71764706 0.83529412 0.83529412 0.78823529\n",
      "  0.72156863 0.84313725 0.57254902 0.84705882 0.9254902  0.88235294\n",
      "  0.60392157 0.         0.         0.        ]\n",
      " [0.         0.         0.         0.         0.22745098 0.9372549\n",
      "  0.89019608 1.         0.61960784 0.75686275 0.76470588 0.8\n",
      "  0.81960784 0.83529412 0.70588235 0.81176471 0.85098039 0.78039216\n",
      "  0.76078431 0.82745098 0.61960784 0.85882353 0.9254902  0.84705882\n",
      "  0.59215686 0.         0.         0.        ]\n",
      " [0.         0.         0.         0.         0.26666667 0.91372549\n",
      "  0.88627451 0.95294118 0.54509804 0.78431373 0.75686275 0.80392157\n",
      "  0.82352941 0.81568627 0.70588235 0.80392157 0.83137255 0.79607843\n",
      "  0.76862745 0.84705882 0.61568627 0.70196078 1.         0.84705882\n",
      "  0.60784314 0.         0.         0.        ]\n",
      " [0.         0.         0.         0.         0.31764706 0.88235294\n",
      "  0.87843137 0.82745098 0.54117647 0.85882353 0.7254902  0.78823529\n",
      "  0.83529412 0.81176471 0.77254902 0.88627451 0.83137255 0.78431373\n",
      "  0.74509804 0.84313725 0.71764706 0.35294118 1.         0.82745098\n",
      "  0.57647059 0.         0.         0.        ]\n",
      " [0.         0.         0.         0.         0.35686275 0.82352941\n",
      "  0.90196078 0.61960784 0.44705882 0.80392157 0.73333333 0.81568627\n",
      "  0.81960784 0.80784314 0.75686275 0.82352941 0.82745098 0.8\n",
      "  0.76470588 0.8        0.70980392 0.09019608 1.         0.83529412\n",
      "  0.61960784 0.         0.         0.        ]\n",
      " [0.         0.         0.         0.         0.34117647 0.80392157\n",
      "  0.90980392 0.42745098 0.64313725 1.         0.83921569 0.87843137\n",
      "  0.87058824 0.82352941 0.77254902 0.83921569 0.88235294 0.87058824\n",
      "  0.82745098 0.8627451  0.85098039 0.         0.91764706 0.84705882\n",
      "  0.6627451  0.         0.         0.        ]\n",
      " [0.         0.         0.         0.         0.36078431 0.83529412\n",
      "  0.90980392 0.57254902 0.01960784 0.5254902  0.59215686 0.63529412\n",
      "  0.66666667 0.71764706 0.71372549 0.64313725 0.65098039 0.69803922\n",
      "  0.63529412 0.61176471 0.38431373 0.         0.94117647 0.88235294\n",
      "  0.82352941 0.         0.         0.        ]\n",
      " [0.         0.         0.         0.         0.16862745 0.64313725\n",
      "  0.80784314 0.55294118 0.         0.         0.         0.\n",
      "  0.         0.         0.         0.         0.         0.\n",
      "  0.         0.         0.         0.         0.49803922 0.49019608\n",
      "  0.29803922 0.         0.         0.        ]]\n",
      "Minimum value of training images 0.0\n",
      "Maximum value of training images 1.0\n"
     ]
    }
   ],
   "metadata": {}
  },
  {
   "cell_type": "markdown",
   "source": [
    "## Visualising FashionMNIST\n",
    "\n",
    "The values of the dataset label correspond to item of clothings. In order to train neural networks it's practical to represent classes using integers, as opposed to their corresponding character representation, this is called Integer Encoding, as we are assigning each unique class to a integer representation.\n",
    "\n",
    "In the following cells below the first 20 training image labels are obtained and the correpsonding textual representation of the integer is printed aswell. "
   ],
   "metadata": {}
  },
  {
   "cell_type": "code",
   "execution_count": 27,
   "source": [
    "fashion_mnist_class_names = [\"T-shirt/top\", \"Trouser\", \"Pullover\", \"Dress\", \"Coat\", \"Sandal\", \"Shirt\", \"Sneaker\", \"Bag\", \"Ankle boot\"]\n",
    "\n",
    "for i in range(20):\n",
    "    print(\"Label value:\", train_labels[i], \"Label text:\", fashion_mnist_class_names[train_labels[i]])"
   ],
   "outputs": [
    {
     "output_type": "stream",
     "name": "stdout",
     "text": [
      "Label value: 4 Label text: Coat\n",
      "Label value: 0 Label text: T-shirt/top\n",
      "Label value: 7 Label text: Sneaker\n",
      "Label value: 9 Label text: Ankle boot\n",
      "Label value: 9 Label text: Ankle boot\n",
      "Label value: 9 Label text: Ankle boot\n",
      "Label value: 4 Label text: Coat\n",
      "Label value: 4 Label text: Coat\n",
      "Label value: 3 Label text: Dress\n",
      "Label value: 4 Label text: Coat\n",
      "Label value: 0 Label text: T-shirt/top\n",
      "Label value: 1 Label text: Trouser\n",
      "Label value: 8 Label text: Bag\n",
      "Label value: 6 Label text: Shirt\n",
      "Label value: 3 Label text: Dress\n",
      "Label value: 6 Label text: Shirt\n",
      "Label value: 4 Label text: Coat\n",
      "Label value: 3 Label text: Dress\n",
      "Label value: 2 Label text: Pullover\n",
      "Label value: 8 Label text: Bag\n"
     ]
    }
   ],
   "metadata": {}
  },
  {
   "cell_type": "markdown",
   "source": [
    "Visualising the clothing item within the first 20 training images is a way to verify the first 20 training images integer encoding coreresponds to their textual representation.\n",
    "\n",
    "Matplotlib's [pyplot](https://matplotlib.org/stable/api/_as_gen/matplotlib.pyplot.html) to generate figures that contain the images of the first 20 data points of the training data. The key method used for visualising image is pyplot [imshow()](https://matplotlib.org/stable/api/_as_gen/matplotlib.pyplot.imshow.html#matplotlib.pyplot.imshow) method.\n",
    "\n",
    "In the cell below we iterate through the first 20 data points of the trianing data and display both the image and the textual reprsentation of the integer encoding of the associated class. And you can verify by observation that the class names corresponds to the content of the image.\n",
    "\n",
    "Now we can build our neural network!"
   ],
   "metadata": {}
  },
  {
   "cell_type": "code",
   "execution_count": 29,
   "source": [
    "# Visualising data\n",
    "plt.figure(figsize=(10,10))\n",
    "for i in range(20):\n",
    "    plt.subplot(5, 4, i+1)\n",
    "    plt.axis(\"off\")\n",
    "    plt.title(fashion_mnist_class_names[train_labels[i]])\n",
    "    plt.imshow(train_images[i], cmap='gray', vmin=0, vmax=1)\n",
    "plt.show()"
   ],
   "outputs": [
    {
     "output_type": "display_data",
     "data": {
      "image/png": "[encoded data removed]",
      "text/plain": [
       "<Figure size 720x720 with 20 Axes>"
      ]
     },
     "metadata": {
      "needs_background": "light"
     }
    }
   ],
   "metadata": {}
  },
  {
   "cell_type": "markdown",
   "source": [
    "## Neural Network Implementation\n",
    "\n",
    "The neural network implmented is a simple deep neural network with an input layers, three hidden layers and an output layer.\n",
    "\n",
    "In feed forward neural networks the number of units reduces as we move down the layers towards the output layer, for several reasons, mainly due to the fact that you require more neurons to process inputs in the earlier layers and the last layer corresponds to the number of classes required for classificaiton, in the case of the fashionMNIST dataset this will be 10. \n",
    "\n",
    "Also, it's has been discovered by reasearchers that there's no additional benefit to performance or accuracy gained by increasing the number of neurons within layers, therefore leveraging high number of neurons within layers will lead to high computational cost at no additional gain.\n",
    "\n",
    "**Note: For detailed explanation on the components of a neural network, please refer to [01_implementing_DNN](https://resources.oreilly.com/binderhub/practical-introduction-to-the-world-of-computer-vision-and-deep-learning/blob/master/notebooks/01_implementing_DNN.ipynb)**"
   ],
   "metadata": {}
  },
  {
   "cell_type": "code",
   "execution_count": 30,
   "source": [
    "# Classification MLP(Multilayer perceptron) with three hidden layers\n",
    "model = keras.models.Sequential([\n",
    "    keras.layers.Flatten(input_shape=[28,28]),\n",
    "    keras.layers.Dense(500, activation=keras.activations.relu),\n",
    "    keras.layers.Dense(250, activation=keras.activations.relu),\n",
    "    keras.layers.Dense(100, activation=keras.activations.relu),\n",
    "    keras.layers.Dense(10, activation=keras.activations.softmax)\n",
    "])"
   ],
   "outputs": [
    {
     "output_type": "stream",
     "name": "stderr",
     "text": [
      "2021-09-21 23:26:28.110101: I tensorflow/core/platform/cpu_feature_guard.cc:145] This TensorFlow binary is optimized with Intel(R) MKL-DNN to use the following CPU instructions in performance critical operations:  SSE4.1 SSE4.2 AVX AVX2 FMA\n",
      "To enable them in non-MKL-DNN operations, rebuild TensorFlow with the appropriate compiler flags.\n",
      "2021-09-21 23:26:28.113054: I tensorflow/core/common_runtime/process_util.cc:115] Creating new thread pool with default inter op setting: 8. Tune using inter_op_parallelism_threads for best performance.\n"
     ]
    }
   ],
   "metadata": {}
  },
  {
   "cell_type": "markdown",
   "source": [
    "## Neural Network Structural Information\n",
    "\n",
    "A structural summary of the neural network implemented above is obtainable by calling our model's 'summary' method. By calling the summary method, we gain information on the model properties such as layers, layer type, shapes, number of weights in the model, and layers.\n",
    "\n",
    "[Keras documentation reference](https://keras.io/api/models/model/#summary-method)"
   ],
   "metadata": {}
  },
  {
   "cell_type": "code",
   "execution_count": 31,
   "source": [
    "model.summary()"
   ],
   "outputs": [
    {
     "output_type": "stream",
     "name": "stdout",
     "text": [
      "Model: \"sequential\"\n",
      "_________________________________________________________________\n",
      "Layer (type)                 Output Shape              Param #   \n",
      "=================================================================\n",
      "flatten (Flatten)            (None, 784)               0         \n",
      "_________________________________________________________________\n",
      "dense (Dense)                (None, 500)               392500    \n",
      "_________________________________________________________________\n",
      "dense_1 (Dense)              (None, 250)               125250    \n",
      "_________________________________________________________________\n",
      "dense_2 (Dense)              (None, 100)               25100     \n",
      "_________________________________________________________________\n",
      "dense_3 (Dense)              (None, 10)                1010      \n",
      "=================================================================\n",
      "Total params: 543,860\n",
      "Trainable params: 543,860\n",
      "Non-trainable params: 0\n",
      "_________________________________________________________________\n"
     ]
    }
   ],
   "metadata": {}
  },
  {
   "cell_type": "markdown",
   "source": [
    "## Neural Network Hyperparameters and More\n",
    "### Compilation\n",
    "Keras provides the ‘compile’ method through the model object we have instantiated earlier. The compile function enables the actual building of the model we have implemented behind the scene with some additional characteristics such as the loss function, optimizer, and metrics.\n",
    "To train the network, we utilize a loss function that calculates the difference between the predicted values provided by the network and actual values of the training data.\n",
    "\n",
    "The loss values accompanied by an optimizer algorithm facilitates the number of changes made to the weights within the network. Supporting factors such as momentum and learning rate schedule, provide the ideal environment to enable the network training to converge, herby getting the loss values as close to zero as possible.\n",
    "\n",
    "Definitions\n",
    "Learning Rate is an integral component of a neural network as it’s a factor value that determines the level of updates that are made to the values of the weights of the network.\n",
    "In a visualization exercise, the function to be solved can be depicted as a hyperbolic curve in n-dimensional parameter space.\n",
    "The learning rate is a component that affects the step size that the current parameter values take towards a local/global minima; hence the learning rate directly affects the rate of convergence of a network during training. If the learning rate is too small the network might take several iterations and epochs to converge. On the other hand, if the learning rate is too high, there is a risk of overshooting the minima, and as a result of this our training doesn’t converge. Selecting the appropriate learning rate can be a time staking exercise.\n",
    "Learning rate schedule: A constant learning rate can be utilized during the training of a neural network, but this can increase the amount of training that has to take place to arrive at optimal neural network performance. By utilizing the learning rate schedule, we introduce a timely reduction or increment of the learning rate during training to arrive at an optimal training outcome of the neural network.\n",
    "Learning rate Decay: Learning rate decay reduces the oscillations of steps taken towards a local minimum during gradient descent. By reducing the learning rate to a smaller value compares to the learning rate value utilized at the start of the training, we can steer the network towards a solution that oscillates in smaller ranges around a minimum.\n",
    "Loss Function: This is a method that quantifies ‘how well’ a machine learning model performs. The quantification is an output(cost) based on a set of inputs, which are referred to as parameter values. The parameter values are used to estimate a prediction, and the ‘loss’ is the difference between the prediction and the actual values.\n",
    "Optimizer: An optimizer within a neural network is an algorithmic implementation that facilitates the process of gradient descent within a neural network by minimizing the loss values provided via the loss function. To minimize the loss, it is paramount the values of the weights within the network are selected appropriately."
   ],
   "metadata": {}
  },
  {
   "cell_type": "code",
   "execution_count": null,
   "source": [
    "# Model compilation and initialisation of optimizer\n",
    "sgd = keras.optimizers.SGD(lr=0.01, decay=1e-6, momentum=0.9, nesterov=True)\n",
    "model.compile(loss=\"sparse_categorical_crossentropy\", optimizer=sgd, metrics=[\"accuracy\"])"
   ],
   "outputs": [],
   "metadata": {}
  },
  {
   "cell_type": "markdown",
   "source": [
    "## TensorBoard\n",
    "\n",
    "TensorBoard provides visual insights into the events that occur during training at each epoch.\n",
    "The training visualization provided by TensorBoard is stored in a ‘runs’ folder directory. We create a function to generate a folder directory and identify each log via a timestamp.\n",
    "\n",
    "**Run Tensorboard using the command below from the location of the run folder on the terminal**\n",
    "`tensorboard --logdir='runs'`\n"
   ],
   "metadata": {}
  },
  {
   "cell_type": "code",
   "execution_count": null,
   "source": [
    "# Configure TensorBoard storage location\n",
    "root_logdir = os.path.join(os.curdir, \"runs\")\n",
    "def get_run_logdir():\n",
    "    run_id = time.strftime(\"run_%Y_%m_%d-%H_%M_%S\")\n",
    "    return os.path.join(root_logdir, run_id)\n",
    "run_logdir = get_run_logdir()\n",
    "tensorboard_cb = keras.callbacks.TensorBoard(run_logdir)"
   ],
   "outputs": [],
   "metadata": {}
  },
  {
   "cell_type": "markdown",
   "source": [
    "## Training the Neural Network\n",
    "\n",
    "The Model’s functional API ‘fit’ method provides the tools to train the implemented network.\n",
    "Passing specific arguments into the fit function:\n",
    "we can specify the training data used for training\n",
    "the number of epochs we are to train the network for\n",
    "and also validation dataset to be used to validate the performance of the network during training to unseen data.\n",
    "We’ll also utilize the ‘callbacks’ argument, which in this instance, calls the TensorBoard callback created.\n",
    "The default batch size within Keras when training a neural network is 32. The network is trained for a total of 60 epochs. With the utilization of early stopping, a halt to training is made once no improvement in the validation loss is recorded after 3 epochs. Early stopping can save you hours, especially in the scenario where your network begins to overfit and stops converging.\n",
    "In summary, we train the model for a maximum of 60 epochs, where we feed forward all our training data in batches of 32 (batch size) through the network at each epoch.\n",
    "An update is made to our network’s weights parameters after it’s seen 32 training images and labels.\n",
    "The ‘fit’ method takes additional arguments that are in the official Keras documentation."
   ],
   "metadata": {}
  },
  {
   "cell_type": "code",
   "execution_count": null,
   "source": [
    "early_stopping_cb = keras.callbacks.EarlyStopping(monitor='val_loss', min_delta=0, patience=3, verbose=0, mode='auto')\n",
    "# Train model\n",
    "model.fit(train_images, train_labels, epochs=60, validation_data=(validation_images, validation_labels), callbacks=[tensorboard_cb, early_stopping_cb])"
   ],
   "outputs": [],
   "metadata": {}
  },
  {
   "cell_type": "markdown",
   "source": [
    "## Evalating the Model\n",
    "To evaluate a model requires feed-forwarding through the network data that hasn’t been exposed to the network during training.\n",
    "Evaluation of the model before actual utilization is a good indicator of observing how well the model can generalize to unseen data.\n",
    "With the evaluation results, you can decide either to fine-tune the network hyperparameters or move forward to production after observing the accuracy of the evaluation over the test dataset."
   ],
   "metadata": {}
  },
  {
   "cell_type": "code",
   "execution_count": null,
   "source": [
    "model_evaluation_results = model.evaluate(test_images, test_labels, verbose=2)\n",
    "print(\"The test loss is\", model_evaluation_results[0])\n",
    "print(\"The test accuracy is\", model_evaluation_results[1])"
   ],
   "outputs": [],
   "metadata": {}
  },
  {
   "cell_type": "code",
   "execution_count": null,
   "source": [
    "# Prediction on test images using model.predict() method\n",
    "practical_test_images =  test_images[:10]\n",
    "prediction_probabilites = model.predict(practical_test_images)\n",
    "prediction_probabilites"
   ],
   "outputs": [],
   "metadata": {}
  },
  {
   "cell_type": "code",
   "execution_count": null,
   "source": [
    "# Altertive 1: Clean up model prediction using argmax to find the largest probablity\n",
    "def derive_predicted_classes(prediction_probabilites):\n",
    "    batch_prediction = []\n",
    "    for vector in prediction_probabilites:\n",
    "        batch_prediction.append(np.argmax(vector))\n",
    "    return batch_prediction\n",
    "    \n",
    "model_prediction = derive_predicted_classes(prediction_probabilites)\n",
    "model_prediction\n"
   ],
   "outputs": [],
   "metadata": {}
  },
  {
   "cell_type": "code",
   "execution_count": null,
   "source": [
    "# Altertive 2: Get specific model preiction using the model.predict_classes() method\n",
    "model_prediction = model.predict_classes(practical_test_images)\n",
    "model_prediction"
   ],
   "outputs": [],
   "metadata": {}
  },
  {
   "cell_type": "code",
   "execution_count": null,
   "source": [
    "np.array(fashion_mnist_class_names)[model_prediction]"
   ],
   "outputs": [],
   "metadata": {}
  },
  {
   "cell_type": "code",
   "execution_count": null,
   "source": [
    "# Visualise the prediction result\n",
    "plt.figure(figsize=(10,10))\n",
    "for i in range(len(practical_test_images)):\n",
    "    plt.subplot(5,5, i+1)\n",
    "    plt.axis(\"off\")\n",
    "    plt.grid(False)\n",
    "    plt.imshow(practical_test_images[i])\n",
    "    plt.title(fashion_mnist_class_names[model_prediction[i]])\n",
    "plt.show()"
   ],
   "outputs": [],
   "metadata": {}
  },
  {
   "cell_type": "code",
   "execution_count": null,
   "source": [
    "model.save(\"image_classification_model.h5\")"
   ],
   "outputs": [],
   "metadata": {}
  },
  {
   "cell_type": "code",
   "execution_count": null,
   "source": [
    "# NOTE: If you encounter the error \"AttributeError: 'str' object has no attribute 'decode'\" when trying to load the model\n",
    "# this is caused by using an higher version of h5py. Simply downgrade the package version of h5py.\n",
    "# using pip \"pip install 'h5py==2.10.0' --force-reinstall\"\n",
    "# or using conda \"conda install -c anaconda h5py=2.10.0\"\n",
    "# reference: https://stackoverflow.com/questions/53740577/does-any-one-got-attributeerror-str-object-has-no-attribute-decode-whi\n",
    "\n",
    "loaded_model = keras.models.load_model(\"image_classification_model.h5\")\n",
    "predictions = loaded_model.predict_classes(practical_test_images)\n",
    "print(predictions)\n",
    "print(np.array(fashion_mnist_class_names)[predictions])"
   ],
   "outputs": [],
   "metadata": {}
  },
  {
   "cell_type": "code",
   "execution_count": null,
   "source": [],
   "outputs": [],
   "metadata": {}
  }
 ],
 "metadata": {
  "kernelspec": {
   "name": "python3",
   "display_name": "Python 3.7.11 64-bit ('deepcourse': conda)"
  },
  "language_info": {
   "codemirror_mode": {
    "name": "ipython",
    "version": 3
   },
   "file_extension": ".py",
   "mimetype": "text/x-python",
   "name": "python",
   "nbconvert_exporter": "python",
   "pygments_lexer": "ipython3",
   "version": "3.7.11"
  },
  "interpreter": {
   "hash": "dc00d3c18918e3d7b202c635280a2defd5a3767f6fcbbc54f3a1ab7d5490b6ae"
  }
 },
 "nbformat": 4,
 "nbformat_minor": 4
}